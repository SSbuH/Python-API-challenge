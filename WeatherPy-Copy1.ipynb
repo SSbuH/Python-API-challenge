{
 "cells": [
  {
   "cell_type": "markdown",
   "metadata": {},
   "source": [
    "# WeatherPy\n",
    "----\n",
    "\n",
    "#### Note\n",
    "* Instructions have been included for each segment. You do not have to follow them exactly, but they are included to help you think through the steps."
   ]
  },
  {
   "cell_type": "code",
   "execution_count": 9,
   "metadata": {
    "scrolled": true
   },
   "outputs": [],
   "source": [
    "# Dependencies and Setup\n",
    "import matplotlib.pyplot as plt\n",
    "import pandas as pd\n",
    "import numpy as np\n",
    "import requests\n",
    "import time\n",
    "from scipy.stats import linregress\n",
    "from pprint import pprint \n",
    "from datetime import datetime\n",
    "import json\n",
    "import scipy.stats as st\n",
    "\n",
    "# Import API key\n",
    "from api_keys import weather_api_key\n",
    "\n",
    "# Incorporated citipy to determine city based on latitude and longitude\n",
    "from citipy import citipy\n",
    "\n",
    "# Output File (CSV)\n",
    "output_data_file = \"../output_data/cities.csv\"\n",
    "\n",
    "# Range of latitudes and longitudes\n",
    "lat_range = (-90, 90)\n",
    "lng_range = (-180, 180)"
   ]
  },
  {
   "cell_type": "markdown",
   "metadata": {},
   "source": [
    "## Generate Cities List"
   ]
  },
  {
   "cell_type": "code",
   "execution_count": 10,
   "metadata": {},
   "outputs": [
    {
     "data": {
      "text/plain": [
       "610"
      ]
     },
     "execution_count": 10,
     "metadata": {},
     "output_type": "execute_result"
    }
   ],
   "source": [
    "# List for holding lat_lngs and cities\n",
    "lat_lngs = []\n",
    "cities = []\n",
    "\n",
    "# Create a set of random lat and lng combinations\n",
    "lats = np.random.uniform(lat_range[0], lat_range[1], size=1500)\n",
    "lngs = np.random.uniform(lng_range[0], lng_range[1], size=1500)\n",
    "lat_lngs = zip(lats, lngs)\n",
    "\n",
    "# Identify nearest city for each lat, lng combination\n",
    "for lat_lng in lat_lngs:\n",
    "    city = citipy.nearest_city(lat_lng[0], lat_lng[1]).city_name\n",
    "    \n",
    "    # If the city is unique, then add it to a our cities list\n",
    "    if city not in cities:\n",
    "        cities.append(city)\n",
    "\n",
    "# Print the city count to confirm sufficient count\n",
    "len(cities)"
   ]
  },
  {
   "cell_type": "markdown",
   "metadata": {},
   "source": [
    "### Perform API Calls\n",
    "* Perform a weather check on each city using a series of successive API calls.\n",
    "* Include a print log of each city as it'sbeing processed (with the city number and city name).\n",
    "\n",
    "> **HINT:** The OpenWeatherMap API only allows 60 calls per minute under their free plan. Try using `time.sleep(60)` after each set of 50 cities to avoid API errors due to large calls."
   ]
  },
  {
   "cell_type": "code",
   "execution_count": 12,
   "metadata": {
    "scrolled": true
   },
   "outputs": [
    {
     "name": "stdout",
     "output_type": "stream",
     "text": [
      "City not found. skipping.\n",
      "Processing record 1|hermanus\n",
      "Processing record 2|abrantes\n",
      "Processing record 3|hobart\n",
      "Processing record 4|kapaa\n",
      "City not found. skipping.\n",
      "Processing record 5|mar del plata\n",
      "Processing record 6|san quintin\n",
      "Processing record 7|bluff\n",
      "Processing record 8|candolim\n",
      "Processing record 9|hithadhoo\n",
      "Processing record 10|jamestown\n",
      "Processing record 11|shahrud\n",
      "Processing record 12|chama\n",
      "Processing record 13|albany\n",
      "Processing record 14|yellowknife\n",
      "Processing record 15|san jose\n",
      "Processing record 16|cajaruro\n",
      "Processing record 17|rikitea\n",
      "Processing record 18|qaanaaq\n",
      "Processing record 19|goderich\n",
      "Processing record 20|lavrentiya\n",
      "Processing record 21|geraldton\n",
      "Processing record 22|ewa beach\n",
      "Processing record 23|georgetown\n",
      "Processing record 24|domsod\n",
      "Processing record 25|aklavik\n",
      "Processing record 26|arraial do cabo\n",
      "Processing record 27|port elizabeth\n",
      "Processing record 28|punta arenas\n",
      "Processing record 29|brigantine\n",
      "Processing record 30|aguimes\n",
      "Processing record 31|tuktoyaktuk\n",
      "Processing record 32|carnarvon\n",
      "Processing record 33|castro\n",
      "City not found. skipping.\n",
      "Processing record 34|yumen\n",
      "Processing record 35|atar\n",
      "Processing record 36|klaksvik\n",
      "Processing record 37|chokurdakh\n",
      "Processing record 38|tuatapere\n",
      "City not found. skipping.\n",
      "Processing record 39|lompoc\n",
      "Processing record 40|bredasdorp\n",
      "Processing record 41|caravelas\n",
      "Processing record 42|northam\n",
      "Processing record 43|port lincoln\n",
      "Processing record 44|russell\n",
      "Processing record 45|lebu\n",
      "Processing record 46|bengkulu\n",
      "Processing record 47|viedma\n",
      "Processing record 48|saldanha\n",
      "Processing record 49|kaitangata\n",
      "Processing record 50|thompson\n",
      "Processing record 51|isangel\n",
      "Processing record 52|cape town\n",
      "Processing record 53|vaini\n",
      "Processing record 54|busselton\n",
      "Processing record 55|shenjiamen\n",
      "City not found. skipping.\n",
      "Processing record 56|severo-kurilsk\n",
      "Processing record 57|revin\n",
      "Processing record 58|atuona\n",
      "Processing record 59|constitucion\n",
      "Processing record 60|ushuaia\n",
      "Processing record 61|katsuura\n",
      "Processing record 62|abu kamal\n",
      "City not found. skipping.\n",
      "Processing record 63|puerto ayora\n",
      "Processing record 64|luderitz\n",
      "Processing record 65|hami\n",
      "Processing record 66|santa fe\n",
      "Processing record 67|mataura\n",
      "Processing record 68|uddevalla\n",
      "City not found. skipping.\n",
      "Processing record 69|olafsvik\n",
      "Processing record 70|upernavik\n",
      "Processing record 71|vila velha\n",
      "Processing record 72|bethel\n",
      "Processing record 73|narsaq\n",
      "Processing record 74|kampot\n",
      "Processing record 75|mahebourg\n",
      "Processing record 76|nova serrana\n",
      "Processing record 77|serra branca\n",
      "Processing record 78|nanortalik\n",
      "Processing record 79|chuy\n",
      "Processing record 80|butaritari\n",
      "Processing record 81|guiuan\n",
      "Processing record 82|seguela\n",
      "Processing record 83|hasaki\n",
      "Processing record 84|saint-philippe\n",
      "Processing record 85|beatrice\n",
      "Processing record 86|chaiya\n",
      "Processing record 87|christchurch\n",
      "Processing record 88|chicama\n",
      "Processing record 89|labuhan\n",
      "Processing record 90|molodizhne\n",
      "Processing record 91|oparino\n",
      "Processing record 92|kupang\n",
      "Processing record 93|east london\n",
      "Processing record 94|ayan\n",
      "Processing record 95|rawson\n",
      "Processing record 96|bambous virieux\n",
      "Processing record 97|conakry\n",
      "Processing record 98|boguchany\n",
      "Processing record 99|maneadero\n",
      "Processing record 100|clinton\n",
      "Processing record 101|ballina\n",
      "Processing record 102|leningradskiy\n",
      "Processing record 103|balykshi\n",
      "Processing record 104|cayenne\n",
      "Processing record 105|severomuysk\n",
      "Processing record 106|solwezi\n",
      "Processing record 107|sistranda\n",
      "Processing record 108|hilo\n",
      "Processing record 109|vostok\n",
      "Processing record 110|torbay\n",
      "Processing record 111|alofi\n",
      "Processing record 112|moratuwa\n",
      "Processing record 113|pemberton\n",
      "Processing record 114|aktau\n",
      "Processing record 115|codrington\n",
      "Processing record 116|elko\n",
      "Processing record 117|talnakh\n",
      "Processing record 118|nemuro\n",
      "Processing record 119|chimbote\n",
      "Processing record 120|rundu\n",
      "Processing record 121|san pedro\n",
      "Processing record 122|puerto escondido\n",
      "Processing record 123|touros\n",
      "Processing record 124|santa rosa\n",
      "Processing record 125|manokwari\n",
      "Processing record 126|quepos\n",
      "Processing record 127|los llanos de aridane\n",
      "Processing record 128|new norfolk\n",
      "City not found. skipping.\n",
      "City not found. skipping.\n",
      "Processing record 129|maragogi\n",
      "Processing record 130|saskylakh\n",
      "Processing record 131|mayumba\n",
      "Processing record 132|pervomayskoye\n",
      "Processing record 133|kita\n",
      "Processing record 134|alvorada\n",
      "Processing record 135|kununurra\n",
      "Processing record 136|grand-bourg\n",
      "Processing record 137|west haven\n",
      "Processing record 138|sao filipe\n",
      "Processing record 139|acarau\n",
      "Processing record 140|rajaldesar\n",
      "City not found. skipping.\n",
      "Processing record 141|dwarka\n",
      "Processing record 142|namtsy\n",
      "Processing record 143|port alfred\n",
      "Processing record 144|avarua\n",
      "Processing record 145|wasilla\n",
      "Processing record 146|necochea\n",
      "Processing record 147|kavaratti\n",
      "Processing record 148|kodiak\n",
      "Processing record 149|hambantota\n",
      "Processing record 150|poso\n",
      "Processing record 151|champerico\n",
      "Processing record 152|nelson bay\n",
      "Processing record 153|ishigaki\n",
      "Processing record 154|coquimbo\n",
      "Processing record 155|lincoln\n",
      "Processing record 156|sao miguel do araguaia\n",
      "Processing record 157|port keats\n",
      "Processing record 158|araripina\n",
      "City not found. skipping.\n",
      "Processing record 159|sao joao da barra\n",
      "City not found. skipping.\n",
      "Processing record 160|smithers\n",
      "Processing record 161|nikolskoye\n",
      "Processing record 162|kalmunai\n",
      "Processing record 163|flinders\n",
      "Processing record 164|tura\n",
      "City not found. skipping.\n",
      "Processing record 165|hualmay\n",
      "Processing record 166|aksarka\n",
      "Processing record 167|bastia\n",
      "Processing record 168|padang\n",
      "Processing record 169|grindavik\n",
      "Processing record 170|ahipara\n",
      "Processing record 171|dikson\n",
      "City not found. skipping.\n",
      "Processing record 172|souillac\n",
      "City not found. skipping.\n",
      "City not found. skipping.\n",
      "Processing record 173|griffith\n",
      "Processing record 174|beloha\n",
      "Processing record 175|nador\n",
      "Processing record 176|raudeberg\n",
      "Processing record 177|kahului\n",
      "Processing record 178|tilichiki\n",
      "Processing record 179|nesbyen\n",
      "Processing record 180|vieste\n",
      "Processing record 181|ribeira grande\n",
      "Processing record 182|calabozo\n",
      "Processing record 183|lasa\n",
      "Processing record 184|lagoa\n",
      "City not found. skipping.\n",
      "Processing record 185|port blair\n",
      "Processing record 186|paralimni\n",
      "Processing record 187|namatanai\n",
      "Processing record 188|kambove\n",
      "Processing record 189|waipawa\n",
      "Processing record 190|salalah\n",
      "Processing record 191|derbent\n",
      "Processing record 192|rayong\n",
      "Processing record 193|planadas\n",
      "Processing record 194|cockburn town\n",
      "Processing record 195|hervey bay\n",
      "City not found. skipping.\n",
      "Processing record 196|mehran\n",
      "City not found. skipping.\n",
      "Processing record 197|grand gaube\n",
      "Processing record 198|provideniya\n",
      "Processing record 199|clyde river\n",
      "Processing record 200|saint-pierre\n",
      "Processing record 201|abu dhabi\n",
      "Processing record 202|sobolevo\n",
      "Processing record 203|nuevitas\n",
      "Processing record 204|ostrovnoy\n",
      "Processing record 205|jardim\n",
      "Processing record 206|altay\n",
      "Processing record 207|zhuhai\n",
      "Processing record 208|ayia galini\n",
      "Processing record 209|mana\n",
      "Processing record 210|the pas\n",
      "Processing record 211|tiksi\n",
      "Processing record 212|kavieng\n",
      "Processing record 213|impfondo\n",
      "Processing record 214|chipinge\n",
      "Processing record 215|sabang\n",
      "Processing record 216|madimba\n",
      "Processing record 217|warrington\n",
      "Processing record 218|alta floresta\n",
      "Processing record 219|bonavista\n",
      "Processing record 220|uzhur\n",
      "Processing record 221|faanui\n",
      "Processing record 222|carbondale\n",
      "Processing record 223|broome\n",
      "Processing record 224|namibe\n",
      "Processing record 225|arman\n",
      "Processing record 226|okakarara\n",
      "Processing record 227|elat\n",
      "Processing record 228|cabo san lucas\n",
      "Processing record 229|rovaniemi\n",
      "City not found. skipping.\n",
      "Processing record 230|kjollefjord\n",
      "Processing record 231|fairbanks\n",
      "Processing record 232|tasiilaq\n",
      "Processing record 233|waingapu\n",
      "Processing record 234|pangnirtung\n",
      "Processing record 235|esperance\n",
      "Processing record 236|shache\n",
      "Processing record 237|bonthe\n",
      "Processing record 238|lima\n",
      "Processing record 239|cidreira\n",
      "City not found. skipping.\n",
      "Processing record 240|nicoya\n",
      "Processing record 241|klyuchi\n",
      "Processing record 242|vysokogornyy\n",
      "City not found. skipping.\n",
      "City not found. skipping.\n",
      "Processing record 243|semey\n",
      "Processing record 244|banda aceh\n",
      "Processing record 245|bilma\n",
      "Processing record 246|fortuna\n",
      "Processing record 247|maniitsoq\n",
      "Processing record 248|angoram\n"
     ]
    },
    {
     "name": "stdout",
     "output_type": "stream",
     "text": [
      "City not found. skipping.\n",
      "Processing record 249|entre rios\n",
      "Processing record 250|warrnambool\n",
      "Processing record 251|puerto rondon\n",
      "Processing record 252|skibbereen\n",
      "Processing record 253|laguna\n",
      "Processing record 254|beringovskiy\n",
      "City not found. skipping.\n",
      "Processing record 255|pisco\n",
      "Processing record 256|kuryk\n",
      "Processing record 257|kuybyshevo\n",
      "Processing record 258|chapais\n",
      "Processing record 259|tommot\n",
      "Processing record 260|kapit\n",
      "Processing record 261|fenoarivo\n",
      "Processing record 262|anadyr\n",
      "Processing record 263|kota kinabalu\n",
      "Processing record 264|cherskiy\n",
      "City not found. skipping.\n",
      "Processing record 265|lorengau\n",
      "Processing record 266|carauari\n",
      "Processing record 267|la rochelle\n",
      "Processing record 268|praia da vitoria\n",
      "City not found. skipping.\n",
      "Processing record 269|tambovka\n",
      "Processing record 270|cukai\n",
      "Processing record 271|camacha\n",
      "Processing record 272|mahibadhoo\n",
      "Processing record 273|uptar\n",
      "Processing record 274|luwuk\n",
      "Processing record 275|vestmanna\n",
      "Processing record 276|les cayes\n",
      "City not found. skipping.\n",
      "Processing record 277|bobrovka\n",
      "City not found. skipping.\n",
      "Processing record 278|schwandorf\n",
      "Processing record 279|tres picos\n",
      "Processing record 280|sioux lookout\n",
      "Processing record 281|tongliao\n",
      "Processing record 282|robertsport\n",
      "Processing record 283|henties bay\n",
      "Processing record 284|marzuq\n",
      "Processing record 285|port hardy\n",
      "Processing record 286|vila franca do campo\n",
      "Processing record 287|komsomolskiy\n",
      "Processing record 288|assis\n",
      "Processing record 289|barrow\n",
      "Processing record 290|mehamn\n",
      "Processing record 291|astana\n",
      "Processing record 292|sivaki\n",
      "Processing record 293|ilulissat\n",
      "Processing record 294|pemangkat\n",
      "Processing record 295|dolores\n",
      "City not found. skipping.\n",
      "Processing record 296|aykhal\n",
      "Processing record 297|kiunga\n",
      "Processing record 298|nago\n",
      "Processing record 299|tera\n",
      "City not found. skipping.\n",
      "Processing record 300|san patricio\n",
      "Processing record 301|ponta do sol\n",
      "Processing record 302|kawalu\n",
      "Processing record 303|victoria\n",
      "Processing record 304|saint-francois\n",
      "Processing record 305|kloulklubed\n",
      "Processing record 306|mandalgovi\n",
      "Processing record 307|nome\n",
      "Processing record 308|haines junction\n",
      "Processing record 309|manakara\n",
      "City not found. skipping.\n",
      "Processing record 310|yarada\n",
      "Processing record 311|baykit\n",
      "Processing record 312|wiarton\n",
      "Processing record 313|russellville\n",
      "Processing record 314|khatanga\n",
      "Processing record 315|doha\n",
      "Processing record 316|yeppoon\n",
      "Processing record 317|bowmore\n",
      "City not found. skipping.\n",
      "Processing record 318|huangcun\n",
      "Processing record 319|pevek\n",
      "Processing record 320|itarema\n",
      "Processing record 321|savelugu\n",
      "Processing record 322|grandola\n",
      "Processing record 323|pekalongan\n",
      "Processing record 324|srednekolymsk\n",
      "Processing record 325|quatre cocos\n",
      "Processing record 326|tonj\n",
      "Processing record 327|taksimo\n",
      "Processing record 328|sibu\n",
      "Processing record 329|kawardha\n",
      "Processing record 330|la tuque\n",
      "City not found. skipping.\n",
      "Processing record 331|tatarka\n",
      "Processing record 332|elmina\n",
      "Processing record 333|avera\n",
      "Processing record 334|kulob\n",
      "Processing record 335|kachiry\n",
      "Processing record 336|dehloran\n",
      "Processing record 337|longyearbyen\n",
      "Processing record 338|ancud\n",
      "Processing record 339|howard springs\n",
      "Processing record 340|egvekinot\n",
      "Processing record 341|tiarei\n",
      "Processing record 342|saint-georges\n",
      "Processing record 343|gorom-gorom\n",
      "Processing record 344|dalbandin\n",
      "Processing record 345|gusinoye ozero\n",
      "City not found. skipping.\n",
      "Processing record 346|oktyabrskiy\n",
      "Processing record 347|te anau\n",
      "Processing record 348|ludvika\n",
      "Processing record 349|savannah bight\n",
      "Processing record 350|akdepe\n",
      "Processing record 351|dingle\n",
      "Processing record 352|galle\n",
      "Processing record 353|tchibanga\n",
      "Processing record 354|toguchin\n",
      "Processing record 355|catuday\n",
      "Processing record 356|meulaboh\n",
      "Processing record 357|kiama\n",
      "Processing record 358|coihaique\n",
      "Processing record 359|gamba\n",
      "Processing record 360|saint george\n",
      "Processing record 361|sao francisco\n",
      "Processing record 362|vestmannaeyjar\n",
      "Processing record 363|odienne\n",
      "Processing record 364|lumsden\n",
      "Processing record 365|iqaluit\n",
      "Processing record 366|roebourne\n",
      "Processing record 367|axim\n",
      "Processing record 368|betare oya\n",
      "Processing record 369|rosario\n",
      "Processing record 370|cairo\n",
      "Processing record 371|reforma\n",
      "Processing record 372|palmer\n",
      "Processing record 373|jalu\n",
      "Processing record 374|vaitape\n",
      "Processing record 375|dingli\n",
      "City not found. skipping.\n",
      "Processing record 376|san rafael del sur\n",
      "Processing record 377|villa union\n",
      "Processing record 378|cap malheureux\n",
      "Processing record 379|islampur\n",
      "Processing record 380|mosquera\n",
      "Processing record 381|roald\n",
      "Processing record 382|barguzin\n",
      "Processing record 383|portland\n",
      "Processing record 384|bac lieu\n",
      "Processing record 385|brandon\n",
      "Processing record 386|sept-iles\n",
      "Processing record 387|longford\n",
      "Processing record 388|talcahuano\n",
      "Processing record 389|yulara\n",
      "Processing record 390|rocha\n",
      "Processing record 391|arnprior\n",
      "Processing record 392|lakhimpur\n",
      "City not found. skipping.\n",
      "Processing record 393|athabasca\n",
      "Processing record 394|airai\n",
      "Processing record 395|porto walter\n",
      "Processing record 396|bodo\n",
      "Processing record 397|wanning\n",
      "Processing record 398|requena\n",
      "Processing record 399|muzhi\n",
      "Processing record 400|simpang\n",
      "Processing record 401|bud\n",
      "Processing record 402|kerman\n",
      "Processing record 403|nauta\n",
      "Processing record 404|nayagarh\n",
      "Processing record 405|ambilobe\n",
      "Processing record 406|berdigestyakh\n",
      "Processing record 407|ryotsu\n",
      "Processing record 408|dagda\n",
      "Processing record 409|rolandia\n",
      "Processing record 410|surt\n",
      "Processing record 411|winslow\n",
      "Processing record 412|gigmoto\n",
      "Processing record 413|ankazoabo\n",
      "Processing record 414|jasper\n",
      "Processing record 415|shahpura\n",
      "Processing record 416|harsin\n",
      "Processing record 417|uruzgan\n",
      "Processing record 418|marystown\n",
      "Processing record 419|bubaque\n",
      "City not found. skipping.\n",
      "City not found. skipping.\n",
      "Processing record 420|troitsko-pechorsk\n",
      "Processing record 421|west bay\n",
      "Processing record 422|korla\n",
      "City not found. skipping.\n",
      "Processing record 423|guerrero negro\n",
      "Processing record 424|oga\n",
      "Processing record 425|havoysund\n",
      "Processing record 426|maarianhamina\n",
      "Processing record 427|nantucket\n",
      "Processing record 428|chebsara\n",
      "Processing record 429|manitouwadge\n",
      "Processing record 430|husavik\n",
      "Processing record 431|sitka\n",
      "Processing record 432|anori\n",
      "Processing record 433|mardin\n",
      "Processing record 434|lappeenranta\n",
      "Processing record 435|rovenki\n",
      "Processing record 436|sola\n",
      "Processing record 437|balsta\n",
      "Processing record 438|naze\n",
      "Processing record 439|kruisfontein\n",
      "Processing record 440|siddipet\n",
      "Processing record 441|paamiut\n",
      "Processing record 442|oxbow\n",
      "Processing record 443|sechura\n",
      "Processing record 444|deputatskiy\n",
      "Processing record 445|pindiga\n",
      "Processing record 446|carutapera\n",
      "Processing record 447|hurghada\n",
      "Processing record 448|whitehorse\n",
      "Processing record 449|peiting\n",
      "Processing record 450|arica\n",
      "Processing record 451|khokhlovo\n",
      "Processing record 452|santa maria\n",
      "Processing record 453|kostomuksha\n",
      "Processing record 454|le port\n",
      "Processing record 455|sungaipenuh\n",
      "Processing record 456|comodoro rivadavia\n",
      "Processing record 457|opuwo\n",
      "Processing record 458|badarpur\n",
      "Processing record 459|melnikovo\n",
      "Processing record 460|sumenep\n",
      "Processing record 461|vienna\n",
      "Processing record 462|yantal\n",
      "Processing record 463|sena madureira\n",
      "City not found. skipping.\n",
      "Processing record 464|halifax\n",
      "Processing record 465|homer\n",
      "Processing record 466|svetlyy\n",
      "Processing record 467|otane\n",
      "Processing record 468|kedrovyy\n",
      "Processing record 469|fiumicino\n",
      "Processing record 470|kolokani\n",
      "Processing record 471|san ramon\n",
      "Processing record 472|itoman\n",
      "Processing record 473|santo antonio de posse\n",
      "City not found. skipping.\n",
      "Processing record 474|turukhansk\n",
      "Processing record 475|dunedin\n",
      "Processing record 476|neiafu\n",
      "Processing record 477|soyo\n",
      "Processing record 478|high prairie\n",
      "City not found. skipping.\n",
      "Processing record 479|vardo\n",
      "Processing record 480|vincennes\n",
      "Processing record 481|jinji\n",
      "Processing record 482|altamira\n",
      "Processing record 483|lata\n",
      "Processing record 484|ferkessedougou\n",
      "Processing record 485|nalut\n",
      "Processing record 486|acajutla\n",
      "Processing record 487|houma\n",
      "Processing record 488|quang ngai\n",
      "Processing record 489|katobu\n",
      "Processing record 490|sao gabriel da cachoeira\n",
      "Processing record 491|pisz\n",
      "Processing record 492|ushtobe\n",
      "City not found. skipping.\n",
      "Processing record 493|sakharovo\n",
      "Processing record 494|faya\n",
      "Processing record 495|port moresby\n"
     ]
    },
    {
     "name": "stdout",
     "output_type": "stream",
     "text": [
      "Processing record 496|forest grove\n",
      "Processing record 497|mehriz\n",
      "City not found. skipping.\n",
      "City not found. skipping.\n",
      "Processing record 498|mackay\n",
      "Processing record 499|toora-khem\n",
      "Processing record 500|wanaka\n",
      "Processing record 501|vila do maio\n",
      "Processing record 502|bacolod\n",
      "Processing record 503|gilroy\n",
      "Processing record 504|barcelos\n",
      "Processing record 505|pimenta bueno\n",
      "City not found. skipping.\n",
      "Processing record 506|kuandian\n",
      "Processing record 507|pingliang\n",
      "Processing record 508|punta cardon\n",
      "Processing record 509|inhambane\n",
      "Processing record 510|dalvik\n",
      "Processing record 511|traverse city\n",
      "Processing record 512|marquette\n",
      "Processing record 513|barra patuca\n",
      "Processing record 514|yar-sale\n",
      "Processing record 515|omboue\n",
      "City not found. skipping.\n",
      "Processing record 516|san bartolome\n",
      "Processing record 517|santa cruz\n",
      "Processing record 518|amberley\n",
      "Processing record 519|takoradi\n",
      "Processing record 520|buala\n",
      "Processing record 521|abbeville\n",
      "Processing record 522|sinnamary\n",
      "Processing record 523|oranjestad\n",
      "Processing record 524|ketchikan\n",
      "City not found. skipping.\n",
      "Processing record 525|norman wells\n",
      "Processing record 526|todos santos\n",
      "Processing record 527|muisne\n",
      "City not found. skipping.\n",
      "Processing record 528|papara\n",
      "City not found. skipping.\n",
      "Processing record 529|marfino\n",
      "Processing record 530|verkhoyansk\n",
      "Processing record 531|revelstoke\n",
      "Processing record 532|tyrma\n",
      "Processing record 533|gizo\n",
      "Processing record 534|manali\n",
      "Processing record 535|saint-joseph\n",
      "Processing record 536|khani\n",
      "Processing record 537|moindou\n",
      "City not found. skipping.\n",
      "Processing record 538|eucaliptus\n",
      "Processing record 539|san vicente\n",
      "Processing record 540|tual\n",
      "Processing record 541|port-gentil\n",
      "Processing record 542|lafiagi\n",
      "Processing record 543|sigli\n",
      "Processing record 544|baghdad\n",
      "Processing record 545|abu samrah\n",
      "Processing record 546|kulhudhuffushi\n",
      "Processing record 547|vagur\n",
      "Processing record 548|dimovo\n",
      "Processing record 549|tarakan\n",
      "Processing record 550|tongzi\n",
      "Processing record 551|pyapon\n",
      "Processing record 552|yerbogachen\n",
      "Processing record 553|alice springs\n",
      "Processing record 554|williamsburg\n",
      "City not found. skipping.\n",
      "Processing record 555|bachaquero\n",
      "City not found. skipping.\n",
      "Processing record 556|yinchuan\n"
     ]
    }
   ],
   "source": [
    "#Base url to work off\n",
    "url = \"http://api.openweathermap.org/data/2.5/weather?units=Imperial&\"\n",
    "\n",
    "#Define empty lists to store values\n",
    "cloudiness = []\n",
    "country = []\n",
    "date = []\n",
    "max_temp = []\n",
    "humidity = []\n",
    "lat = []\n",
    "lng = []\n",
    "wind_speed = []\n",
    "city_name = []\n",
    "\n",
    "#Looping through cities to make api calls using city as query\n",
    "i = 1\n",
    "for city in cities:\n",
    "    city=city\n",
    "    query_url = url + \"appid=\" + weather_api_key + \"&q=\" + city\n",
    "    response = requests.get(query_url).json()\n",
    "    \n",
    "#Extracting data. Missing data is handled by try and except  \n",
    "    try:\n",
    "        \n",
    "        cloudiness.append(response[\"clouds\"][\"all\"])\n",
    "        country.append(response[\"sys\"][\"country\"])\n",
    "        date.append(response[\"dt\"])\n",
    "        max_temp.append(response[\"main\"]['temp_max'])\n",
    "        humidity.append(response[\"main\"]['humidity'])\n",
    "        lat.append(response[\"coord\"][\"lat\"])  \n",
    "        lng.append(response[\"coord\"][\"lon\"])\n",
    "        wind_speed.append(response[\"wind\"][\"speed\"])\n",
    "        city_name.append(response[\"name\"])\n",
    "        print(f\"Processing record {i}|{city}\")\n",
    "        i+=1\n",
    "    except (KeyError):\n",
    "        print(\"City not found. skipping.\")"
   ]
  },
  {
   "cell_type": "markdown",
   "metadata": {},
   "source": [
    "### Convert Raw Data to DataFrame\n",
    "* Export the city data into a .csv.\n",
    "* Display the DataFrame"
   ]
  },
  {
   "cell_type": "code",
   "execution_count": 18,
   "metadata": {},
   "outputs": [
    {
     "data": {
      "text/html": [
       "<div>\n",
       "<style scoped>\n",
       "    .dataframe tbody tr th:only-of-type {\n",
       "        vertical-align: middle;\n",
       "    }\n",
       "\n",
       "    .dataframe tbody tr th {\n",
       "        vertical-align: top;\n",
       "    }\n",
       "\n",
       "    .dataframe thead th {\n",
       "        text-align: right;\n",
       "    }\n",
       "</style>\n",
       "<table border=\"1\" class=\"dataframe\">\n",
       "  <thead>\n",
       "    <tr style=\"text-align: right;\">\n",
       "      <th></th>\n",
       "      <th>City</th>\n",
       "      <th>Cloudiness</th>\n",
       "      <th>Country</th>\n",
       "      <th>Date</th>\n",
       "      <th>Humidity</th>\n",
       "      <th>Lat</th>\n",
       "      <th>Lng</th>\n",
       "      <th>Max Temp</th>\n",
       "      <th>Wind Speed</th>\n",
       "    </tr>\n",
       "    <tr>\n",
       "      <th>City ID</th>\n",
       "      <th></th>\n",
       "      <th></th>\n",
       "      <th></th>\n",
       "      <th></th>\n",
       "      <th></th>\n",
       "      <th></th>\n",
       "      <th></th>\n",
       "      <th></th>\n",
       "      <th></th>\n",
       "    </tr>\n",
       "  </thead>\n",
       "  <tbody>\n",
       "    <tr>\n",
       "      <th>0</th>\n",
       "      <td>Hermanus</td>\n",
       "      <td>100</td>\n",
       "      <td>ZA</td>\n",
       "      <td>1650748282</td>\n",
       "      <td>66</td>\n",
       "      <td>-34.4187</td>\n",
       "      <td>19.2345</td>\n",
       "      <td>58.91</td>\n",
       "      <td>5.91</td>\n",
       "    </tr>\n",
       "    <tr>\n",
       "      <th>1</th>\n",
       "      <td>Abrantes</td>\n",
       "      <td>2</td>\n",
       "      <td>PT</td>\n",
       "      <td>1650748283</td>\n",
       "      <td>94</td>\n",
       "      <td>39.4667</td>\n",
       "      <td>-8.2000</td>\n",
       "      <td>51.73</td>\n",
       "      <td>4.68</td>\n",
       "    </tr>\n",
       "    <tr>\n",
       "      <th>2</th>\n",
       "      <td>Hobart</td>\n",
       "      <td>20</td>\n",
       "      <td>AU</td>\n",
       "      <td>1650748283</td>\n",
       "      <td>88</td>\n",
       "      <td>-42.8794</td>\n",
       "      <td>147.3294</td>\n",
       "      <td>47.01</td>\n",
       "      <td>6.91</td>\n",
       "    </tr>\n",
       "    <tr>\n",
       "      <th>3</th>\n",
       "      <td>Kapaa</td>\n",
       "      <td>75</td>\n",
       "      <td>US</td>\n",
       "      <td>1650748283</td>\n",
       "      <td>79</td>\n",
       "      <td>22.0752</td>\n",
       "      <td>-159.3190</td>\n",
       "      <td>80.58</td>\n",
       "      <td>14.97</td>\n",
       "    </tr>\n",
       "    <tr>\n",
       "      <th>4</th>\n",
       "      <td>Mar del Plata</td>\n",
       "      <td>0</td>\n",
       "      <td>AR</td>\n",
       "      <td>1650748284</td>\n",
       "      <td>35</td>\n",
       "      <td>-38.0023</td>\n",
       "      <td>-57.5575</td>\n",
       "      <td>71.62</td>\n",
       "      <td>13.80</td>\n",
       "    </tr>\n",
       "  </tbody>\n",
       "</table>\n",
       "</div>"
      ],
      "text/plain": [
       "                  City  Cloudiness Country        Date  Humidity      Lat  \\\n",
       "City ID                                                                     \n",
       "0             Hermanus         100      ZA  1650748282        66 -34.4187   \n",
       "1             Abrantes           2      PT  1650748283        94  39.4667   \n",
       "2               Hobart          20      AU  1650748283        88 -42.8794   \n",
       "3                Kapaa          75      US  1650748283        79  22.0752   \n",
       "4        Mar del Plata           0      AR  1650748284        35 -38.0023   \n",
       "\n",
       "              Lng  Max Temp  Wind Speed  \n",
       "City ID                                  \n",
       "0         19.2345     58.91        5.91  \n",
       "1         -8.2000     51.73        4.68  \n",
       "2        147.3294     47.01        6.91  \n",
       "3       -159.3190     80.58       14.97  \n",
       "4        -57.5575     71.62       13.80  "
      ]
     },
     "execution_count": 18,
     "metadata": {},
     "output_type": "execute_result"
    }
   ],
   "source": [
    "#Creating city dataframe and exporting city data into a csv\n",
    "city_df = pd.DataFrame({\"City\":city_name, \n",
    "                        \"Cloudiness\":cloudiness, \n",
    "                        \"Country\":country, \n",
    "                        \"Date\":date, \n",
    "                        \"Humidity\":humidity,\n",
    "                        \"Lat\":lat,\n",
    "                        \"Lng\":lng,\n",
    "                        \"Max Temp\":max_temp,\n",
    "                        \"Wind Speed\":wind_speed\n",
    "                                         })\n",
    "city_df = city_df.rename_axis('City ID')\n",
    "\n",
    "#Exporting data to csv\n",
    "city_df.to_csv(\"../output_data/cities.csv\")\n",
    "\n",
    "#Displaying dataframe\n",
    "city_df.head()\n"
   ]
  },
  {
   "cell_type": "code",
   "execution_count": 19,
   "metadata": {},
   "outputs": [
    {
     "data": {
      "text/plain": [
       "City          556\n",
       "Cloudiness    556\n",
       "Country       556\n",
       "Date          556\n",
       "Humidity      556\n",
       "Lat           556\n",
       "Lng           556\n",
       "Max Temp      556\n",
       "Wind Speed    556\n",
       "dtype: int64"
      ]
     },
     "execution_count": 19,
     "metadata": {},
     "output_type": "execute_result"
    }
   ],
   "source": [
    "# Data Count\n",
    "city_df.count()"
   ]
  },
  {
   "cell_type": "code",
   "execution_count": 23,
   "metadata": {},
   "outputs": [
    {
     "data": {
      "text/html": [
       "<div>\n",
       "<style scoped>\n",
       "    .dataframe tbody tr th:only-of-type {\n",
       "        vertical-align: middle;\n",
       "    }\n",
       "\n",
       "    .dataframe tbody tr th {\n",
       "        vertical-align: top;\n",
       "    }\n",
       "\n",
       "    .dataframe thead th {\n",
       "        text-align: right;\n",
       "    }\n",
       "</style>\n",
       "<table border=\"1\" class=\"dataframe\">\n",
       "  <thead>\n",
       "    <tr style=\"text-align: right;\">\n",
       "      <th></th>\n",
       "      <th>Mean</th>\n",
       "      <th>Median</th>\n",
       "      <th>Variance</th>\n",
       "      <th>Standard Deviation</th>\n",
       "    </tr>\n",
       "    <tr>\n",
       "      <th>City</th>\n",
       "      <th></th>\n",
       "      <th></th>\n",
       "      <th></th>\n",
       "      <th></th>\n",
       "    </tr>\n",
       "  </thead>\n",
       "  <tbody>\n",
       "    <tr>\n",
       "      <th>Abbeville</th>\n",
       "      <td>89.0</td>\n",
       "      <td>89.0</td>\n",
       "      <td>NaN</td>\n",
       "      <td>NaN</td>\n",
       "    </tr>\n",
       "    <tr>\n",
       "      <th>Abrantes</th>\n",
       "      <td>94.0</td>\n",
       "      <td>94.0</td>\n",
       "      <td>NaN</td>\n",
       "      <td>NaN</td>\n",
       "    </tr>\n",
       "    <tr>\n",
       "      <th>Abu Dhabi</th>\n",
       "      <td>82.0</td>\n",
       "      <td>82.0</td>\n",
       "      <td>NaN</td>\n",
       "      <td>NaN</td>\n",
       "    </tr>\n",
       "    <tr>\n",
       "      <th>Abu Kamal</th>\n",
       "      <td>10.0</td>\n",
       "      <td>10.0</td>\n",
       "      <td>NaN</td>\n",
       "      <td>NaN</td>\n",
       "    </tr>\n",
       "    <tr>\n",
       "      <th>Abu Samrah</th>\n",
       "      <td>18.0</td>\n",
       "      <td>18.0</td>\n",
       "      <td>NaN</td>\n",
       "      <td>NaN</td>\n",
       "    </tr>\n",
       "    <tr>\n",
       "      <th>...</th>\n",
       "      <td>...</td>\n",
       "      <td>...</td>\n",
       "      <td>...</td>\n",
       "      <td>...</td>\n",
       "    </tr>\n",
       "    <tr>\n",
       "      <th>Yulara</th>\n",
       "      <td>55.0</td>\n",
       "      <td>55.0</td>\n",
       "      <td>NaN</td>\n",
       "      <td>NaN</td>\n",
       "    </tr>\n",
       "    <tr>\n",
       "      <th>Yumen</th>\n",
       "      <td>23.0</td>\n",
       "      <td>23.0</td>\n",
       "      <td>NaN</td>\n",
       "      <td>NaN</td>\n",
       "    </tr>\n",
       "    <tr>\n",
       "      <th>Yārāda</th>\n",
       "      <td>82.0</td>\n",
       "      <td>82.0</td>\n",
       "      <td>NaN</td>\n",
       "      <td>NaN</td>\n",
       "    </tr>\n",
       "    <tr>\n",
       "      <th>Zhuhai</th>\n",
       "      <td>100.0</td>\n",
       "      <td>100.0</td>\n",
       "      <td>NaN</td>\n",
       "      <td>NaN</td>\n",
       "    </tr>\n",
       "    <tr>\n",
       "      <th>‘Ewa Beach</th>\n",
       "      <td>66.0</td>\n",
       "      <td>66.0</td>\n",
       "      <td>NaN</td>\n",
       "      <td>NaN</td>\n",
       "    </tr>\n",
       "  </tbody>\n",
       "</table>\n",
       "<p>556 rows × 4 columns</p>\n",
       "</div>"
      ],
      "text/plain": [
       "             Mean  Median  Variance  Standard Deviation\n",
       "City                                                   \n",
       "Abbeville    89.0    89.0       NaN                 NaN\n",
       "Abrantes     94.0    94.0       NaN                 NaN\n",
       "Abu Dhabi    82.0    82.0       NaN                 NaN\n",
       "Abu Kamal    10.0    10.0       NaN                 NaN\n",
       "Abu Samrah   18.0    18.0       NaN                 NaN\n",
       "...           ...     ...       ...                 ...\n",
       "Yulara       55.0    55.0       NaN                 NaN\n",
       "Yumen        23.0    23.0       NaN                 NaN\n",
       "Yārāda       82.0    82.0       NaN                 NaN\n",
       "Zhuhai      100.0   100.0       NaN                 NaN\n",
       "‘Ewa Beach   66.0    66.0       NaN                 NaN\n",
       "\n",
       "[556 rows x 4 columns]"
      ]
     },
     "execution_count": 23,
     "metadata": {},
     "output_type": "execute_result"
    }
   ],
   "source": [
    "# Generate a summary statistics table of mean, median, variance, and standard deviation, humidity for each city\n",
    "\n",
    "# Use groupby and summary statistical methods to calculate the following properties of each city humidity: \n",
    "# mean, median, variance, and standard deviation. \n",
    "# Assemble the resulting series into a single summary dataframe.\n",
    "\n",
    "mean=city_df.groupby('City')['Humidity'].mean()\n",
    "median=city_df.groupby('City')['Humidity'].median()\n",
    "variance=city_df.groupby('City')['Humidity'].var()\n",
    "standard_dv=city_df.groupby('City')['Humidity'].std()\n",
    "\n",
    "summary_city_df=pd.DataFrame({\"Mean\": mean, \"Median\": median, \"Variance\": variance, \"Standard Deviation\": standard_dv})\n",
    "summary_city_df"
   ]
  },
  {
   "cell_type": "code",
   "execution_count": null,
   "metadata": {},
   "outputs": [],
   "source": [
    "#Based on above information it can be assumed that most cities have humidity that fall below or is at 100%"
   ]
  },
  {
   "cell_type": "markdown",
   "metadata": {},
   "source": [
    "## Inspect the data and remove the cities where the humidity > 100%.\n",
    "----\n",
    "Skip this step if there are no cities that have humidity > 100%. "
   ]
  },
  {
   "cell_type": "code",
   "execution_count": null,
   "metadata": {},
   "outputs": [],
   "source": []
  },
  {
   "cell_type": "code",
   "execution_count": 24,
   "metadata": {},
   "outputs": [],
   "source": [
    "#  Get the indices of cities that have humidity over 100%.\n"
   ]
  },
  {
   "cell_type": "code",
   "execution_count": 25,
   "metadata": {},
   "outputs": [],
   "source": [
    "# Make a new DataFrame equal to the city data to drop all humidity outliers by index.\n",
    "# Passing \"inplace=False\" will make a copy of the city_data DataFrame, which we call \"clean_city_data\".\n"
   ]
  },
  {
   "cell_type": "code",
   "execution_count": null,
   "metadata": {},
   "outputs": [],
   "source": [
    "\n"
   ]
  },
  {
   "cell_type": "markdown",
   "metadata": {},
   "source": [
    "## Plotting the Data\n",
    "* Use proper labeling of the plots using plot titles (including date of analysis) and axes labels.\n",
    "* Save the plotted figures as .pngs."
   ]
  },
  {
   "cell_type": "markdown",
   "metadata": {},
   "source": [
    "## Latitude vs. Temperature Plot"
   ]
  },
  {
   "cell_type": "code",
   "execution_count": 27,
   "metadata": {
    "scrolled": true
   },
   "outputs": [
    {
     "data": {
      "image/png": "[encoded data removed]",
      "text/plain": [
       "<Figure size 432x288 with 1 Axes>"
      ]
     },
     "metadata": {
      "needs_background": "light"
     },
     "output_type": "display_data"
    }
   ],
   "source": [
    "#Converting Date for title of plot\n",
    "timestamp = city_df[\"Date\"][0]\n",
    "converted_timestamp = datetime.utcfromtimestamp(timestamp)\n",
    "shortened_timestamp = datetime.date(converted_timestamp)\n",
    "\n",
    "#Creating plot\n",
    "plt.scatter(city_df[\"Lat\"], city_df[\"Max Temp\"], marker = \"o\", color = \"blue\",edgecolor = \"black\")\n",
    "plt.grid()\n",
    "plt.xlabel(\"Latitude\")\n",
    "plt.ylabel(\"Max Temperature (F)\")\n",
    "plt.title(f\"City Latitude vs. Max Temperature({shortened_timestamp})\")\n",
    "plt.savefig(\"../output_data/Lat_vs_temp_plot\")\n",
    "plt.show()"
   ]
  },
  {
   "cell_type": "markdown",
   "metadata": {},
   "source": [
    "## Latitude vs. Humidity Plot"
   ]
  },
  {
   "cell_type": "code",
   "execution_count": 28,
   "metadata": {},
   "outputs": [
    {
     "data": {
      "image/png": "[encoded data removed]",
      "text/plain": [
       "<Figure size 432x288 with 1 Axes>"
      ]
     },
     "metadata": {
      "needs_background": "light"
     },
     "output_type": "display_data"
    }
   ],
   "source": [
    "plt.scatter(city_df[\"Lat\"], city_df[\"Humidity\"], marker = \"o\", color = \"blue\",edgecolor = \"black\")\n",
    "plt.grid()\n",
    "plt.ylim(0, city_df[\"Humidity\"].max()+50)\n",
    "plt.xlabel(\"Latitude\")\n",
    "plt.ylabel(\"Humidity(%)\")\n",
    "plt.title(f\"City Latitude vs. Humidity ({shortened_timestamp})\")\n",
    "plt.savefig(\"../output_data/Lat_vs_humidity_plot\")\n",
    "plt.show()"
   ]
  },
  {
   "cell_type": "markdown",
   "metadata": {},
   "source": [
    "## Latitude vs. Cloudiness Plot"
   ]
  },
  {
   "cell_type": "code",
   "execution_count": 29,
   "metadata": {},
   "outputs": [
    {
     "data": {
      "image/png": "[encoded data removed]",
      "text/plain": [
       "<Figure size 432x288 with 1 Axes>"
      ]
     },
     "metadata": {
      "needs_background": "light"
     },
     "output_type": "display_data"
    }
   ],
   "source": [
    "plt.scatter(city_df[\"Lat\"], city_df[\"Cloudiness\"], marker = \"o\", color = \"blue\",edgecolor = \"black\")\n",
    "plt.grid()\n",
    "plt.xlabel(\"Latitude\")\n",
    "plt.ylabel(\"Cloudiness(%)\")\n",
    "plt.title(f\"City Latitude vs. Cloudiness ({shortened_timestamp})\")\n",
    "plt.savefig(\"../output_data/Lat_vs_cloudiness_plot\")\n",
    "plt.show()"
   ]
  },
  {
   "cell_type": "markdown",
   "metadata": {},
   "source": [
    "## Latitude vs. Wind Speed Plot"
   ]
  },
  {
   "cell_type": "code",
   "execution_count": 30,
   "metadata": {},
   "outputs": [
    {
     "data": {
      "image/png": "[encoded data removed]",
      "text/plain": [
       "<Figure size 432x288 with 1 Axes>"
      ]
     },
     "metadata": {
      "needs_background": "light"
     },
     "output_type": "display_data"
    }
   ],
   "source": [
    "plt.scatter(city_df[\"Lat\"], city_df[\"Wind Speed\"], marker = \"o\", color = \"blue\",edgecolor = \"black\")\n",
    "plt.grid()\n",
    "plt.xlabel(\"Latitude\")\n",
    "plt.ylabel(\"Wind Speed(mph)\")\n",
    "plt.title(f\"City Latitude vs. Wind Speed ({shortened_timestamp})\")\n",
    "plt.savefig(\"../output_data/Lat_vs_windSpeed_plot\")\n",
    "plt.show()"
   ]
  },
  {
   "cell_type": "markdown",
   "metadata": {},
   "source": [
    "## Linear Regression"
   ]
  },
  {
   "cell_type": "code",
   "execution_count": 31,
   "metadata": {},
   "outputs": [],
   "source": [
    "# Create a function to create Linear Regression plots\n",
    "# Add the linear regression equation and line to plot\n",
    "def linear_reg_plot(x_values,y_values):\n",
    "    (slope, intercept, rvalue, pvalue, stderr) = linregress(x_values, y_values)\n",
    "    regress_values = x_values * slope + intercept\n",
    "    line_eq = \"y = \" + str(round(slope,2)) + \"x + \" + str(round(intercept,2))\n",
    "    plt.scatter(x_values,y_values)\n",
    "    plt.plot(x_values,regress_values,\"r-\")\n",
    "    plt.annotate(line_eq,(x_values.median(),y_values.median()),fontsize=15,color=\"red\")\n",
    "    plt.xlabel(\"Latitude\")\n",
    "    print(f\"The r-squared is: {rvalue}\")\n",
    "    plt.show()"
   ]
  },
  {
   "cell_type": "code",
   "execution_count": 32,
   "metadata": {},
   "outputs": [],
   "source": [
    "# Create Northern and Southern Hemisphere DataFrames\n",
    "Northern_hemisphere = city_df.loc[city_df[\"Lat\"]>0]\n",
    "Southern_hemisphere = city_df.loc[city_df[\"Lat\"]<0]\n",
    "#print(Southern_hemisphere.count(),Northern_hemisphere.count())"
   ]
  },
  {
   "cell_type": "markdown",
   "metadata": {},
   "source": [
    "####  Northern Hemisphere - Max Temp vs. Latitude Linear Regression"
   ]
  },
  {
   "cell_type": "code",
   "execution_count": 33,
   "metadata": {},
   "outputs": [
    {
     "name": "stdout",
     "output_type": "stream",
     "text": [
      "The r-squared is: -0.855708705869645\n"
     ]
    },
    {
     "data": {
      "image/png": "[encoded data removed]",
      "text/plain": [
       "<Figure size 432x288 with 1 Axes>"
      ]
     },
     "metadata": {
      "needs_background": "light"
     },
     "output_type": "display_data"
    },
    {
     "name": "stdout",
     "output_type": "stream",
     "text": [
      "None\n"
     ]
    }
   ],
   "source": [
    "x_values = Northern_hemisphere[\"Lat\"]\n",
    "y_values = Northern_hemisphere[\"Max Temp\"]\n",
    "plt.ylabel(\"Max Temp (F)\")\n",
    "print(linear_reg_plot(x_values,y_values))"
   ]
  },
  {
   "cell_type": "markdown",
   "metadata": {},
   "source": [
    "####  Southern Hemisphere - Max Temp vs. Latitude Linear Regression"
   ]
  },
  {
   "cell_type": "code",
   "execution_count": 35,
   "metadata": {},
   "outputs": [
    {
     "name": "stdout",
     "output_type": "stream",
     "text": [
      "The r-squared is: 0.7828836063742097\n"
     ]
    },
    {
     "data": {
      "image/png": "[encoded data removed]",
      "text/plain": [
       "<Figure size 432x288 with 1 Axes>"
      ]
     },
     "metadata": {
      "needs_background": "light"
     },
     "output_type": "display_data"
    },
    {
     "name": "stdout",
     "output_type": "stream",
     "text": [
      "None\n"
     ]
    }
   ],
   "source": [
    "x_values = Southern_hemisphere[\"Lat\"]\n",
    "y_values = Southern_hemisphere[\"Max Temp\"]\n",
    "plt.ylabel(\"Max Temp (F)\")\n",
    "\n",
    "print(linear_reg_plot(x_values,y_values))"
   ]
  },
  {
   "cell_type": "markdown",
   "metadata": {},
   "source": [
    "####  Northern Hemisphere - Humidity (%) vs. Latitude Linear Regression"
   ]
  },
  {
   "cell_type": "code",
   "execution_count": 36,
   "metadata": {},
   "outputs": [
    {
     "name": "stdout",
     "output_type": "stream",
     "text": [
      "The r-squared is: 0.22230462705461898\n"
     ]
    },
    {
     "data": {
      "image/png": "[encoded data removed]",
      "text/plain": [
       "<Figure size 432x288 with 1 Axes>"
      ]
     },
     "metadata": {
      "needs_background": "light"
     },
     "output_type": "display_data"
    },
    {
     "name": "stdout",
     "output_type": "stream",
     "text": [
      "None\n"
     ]
    }
   ],
   "source": [
    "x_values = Northern_hemisphere[\"Lat\"]\n",
    "y_values = Northern_hemisphere[\"Humidity\"]\n",
    "plt.ylabel(\"Humidity (%)\")\n",
    "\n",
    "print(linear_reg_plot(x_values,y_values))"
   ]
  },
  {
   "cell_type": "markdown",
   "metadata": {},
   "source": [
    "####  Southern Hemisphere - Humidity (%) vs. Latitude Linear Regression"
   ]
  },
  {
   "cell_type": "code",
   "execution_count": 37,
   "metadata": {},
   "outputs": [
    {
     "name": "stdout",
     "output_type": "stream",
     "text": [
      "The r-squared is: 0.21267343528869392\n"
     ]
    },
    {
     "data": {
      "image/png": "[encoded data removed]",
      "text/plain": [
       "<Figure size 432x288 with 1 Axes>"
      ]
     },
     "metadata": {
      "needs_background": "light"
     },
     "output_type": "display_data"
    },
    {
     "name": "stdout",
     "output_type": "stream",
     "text": [
      "None\n"
     ]
    }
   ],
   "source": [
    "x_values = Southern_hemisphere[\"Lat\"]\n",
    "y_values = Southern_hemisphere[\"Humidity\"]\n",
    "plt.ylim(0, y_values.max()+100)\n",
    "plt.ylabel(\"Humidity (%)\")\n",
    "print(linear_reg_plot(x_values,y_values))"
   ]
  },
  {
   "cell_type": "markdown",
   "metadata": {},
   "source": [
    "####  Northern Hemisphere - Cloudiness (%) vs. Latitude Linear Regression"
   ]
  },
  {
   "cell_type": "code",
   "execution_count": 38,
   "metadata": {},
   "outputs": [
    {
     "name": "stdout",
     "output_type": "stream",
     "text": [
      "The r-squared is: 0.17866794249986667\n"
     ]
    },
    {
     "data": {
      "image/png": "[encoded data removed]",
      "text/plain": [
       "<Figure size 432x288 with 1 Axes>"
      ]
     },
     "metadata": {
      "needs_background": "light"
     },
     "output_type": "display_data"
    },
    {
     "name": "stdout",
     "output_type": "stream",
     "text": [
      "None\n"
     ]
    }
   ],
   "source": [
    "x_values = Northern_hemisphere[\"Lat\"]\n",
    "y_values = Northern_hemisphere[\"Cloudiness\"]\n",
    "plt.ylabel(\"Cloudiness\")\n",
    "print(linear_reg_plot(x_values,y_values))"
   ]
  },
  {
   "cell_type": "markdown",
   "metadata": {},
   "source": [
    "####  Southern Hemisphere - Cloudiness (%) vs. Latitude Linear Regression"
   ]
  },
  {
   "cell_type": "code",
   "execution_count": 39,
   "metadata": {},
   "outputs": [
    {
     "name": "stdout",
     "output_type": "stream",
     "text": [
      "The r-squared is: 0.27868557103392816\n"
     ]
    },
    {
     "data": {
      "image/png": "[encoded data removed]",
      "text/plain": [
       "<Figure size 432x288 with 1 Axes>"
      ]
     },
     "metadata": {
      "needs_background": "light"
     },
     "output_type": "display_data"
    },
    {
     "name": "stdout",
     "output_type": "stream",
     "text": [
      "None\n"
     ]
    }
   ],
   "source": [
    "x_values = Southern_hemisphere[\"Lat\"]\n",
    "y_values = Southern_hemisphere[\"Cloudiness\"]\n",
    "plt.ylabel(\"Cloudiness\")\n",
    "print(linear_reg_plot(x_values,y_values))"
   ]
  },
  {
   "cell_type": "markdown",
   "metadata": {},
   "source": [
    "####  Northern Hemisphere - Wind Speed (mph) vs. Latitude Linear Regression"
   ]
  },
  {
   "cell_type": "code",
   "execution_count": 40,
   "metadata": {},
   "outputs": [
    {
     "name": "stdout",
     "output_type": "stream",
     "text": [
      "The r-squared is: 0.0024534020162598133\n"
     ]
    },
    {
     "data": {
      "image/png": "[encoded data removed]",
      "text/plain": [
       "<Figure size 432x288 with 1 Axes>"
      ]
     },
     "metadata": {
      "needs_background": "light"
     },
     "output_type": "display_data"
    },
    {
     "name": "stdout",
     "output_type": "stream",
     "text": [
      "None\n"
     ]
    }
   ],
   "source": [
    "x_values = Northern_hemisphere[\"Lat\"]\n",
    "y_values = Northern_hemisphere[\"Wind Speed\"]\n",
    "plt.ylabel(\"Wind Speed\")\n",
    "print(linear_reg_plot(x_values,y_values))"
   ]
  },
  {
   "cell_type": "markdown",
   "metadata": {},
   "source": [
    "####  Southern Hemisphere - Wind Speed (mph) vs. Latitude Linear Regression"
   ]
  },
  {
   "cell_type": "code",
   "execution_count": 41,
   "metadata": {},
   "outputs": [
    {
     "name": "stdout",
     "output_type": "stream",
     "text": [
      "The r-squared is: -0.36544124754538926\n"
     ]
    },
    {
     "data": {
      "image/png": "[encoded data removed]",
      "text/plain": [
       "<Figure size 432x288 with 1 Axes>"
      ]
     },
     "metadata": {
      "needs_background": "light"
     },
     "output_type": "display_data"
    },
    {
     "name": "stdout",
     "output_type": "stream",
     "text": [
      "None\n"
     ]
    }
   ],
   "source": [
    "x_values = Southern_hemisphere[\"Lat\"]\n",
    "y_values = Southern_hemisphere[\"Wind Speed\"]\n",
    "plt.ylabel(\"Wind Speed\")\n",
    "print(linear_reg_plot(x_values,y_values))"
   ]
  },
  {
   "cell_type": "code",
   "execution_count": null,
   "metadata": {},
   "outputs": [],
   "source": []
  }
 ],
 "metadata": {
  "anaconda-cloud": {},
  "kernel_info": {
   "name": "python3"
  },
  "kernelspec": {
   "display_name": "Python 3 (ipykernel)",
   "language": "python",
   "name": "python3"
  },
  "language_info": {
   "codemirror_mode": {
    "name": "ipython",
    "version": 3
   },
   "file_extension": ".py",
   "mimetype": "text/x-python",
   "name": "python",
   "nbconvert_exporter": "python",
   "pygments_lexer": "ipython3",
   "version": "3.9.7"
  },
  "latex_envs": {
   "LaTeX_envs_menu_present": true,
   "autoclose": false,
   "autocomplete": true,
   "bibliofile": "biblio.bib",
   "cite_by": "apalike",
   "current_citInitial": 1,
   "eqLabelWithNumbers": true,
   "eqNumInitial": 1,
   "hotkeys": {
    "equation": "Ctrl-E",
    "itemize": "Ctrl-I"
   },
   "labels_anchors": false,
   "latex_user_defs": false,
   "report_style_numbering": false,
   "user_envs_cfg": false
  },
  "nteract": {
   "version": "0.12.3"
  }
 },
 "nbformat": 4,
 "nbformat_minor": 2
}
